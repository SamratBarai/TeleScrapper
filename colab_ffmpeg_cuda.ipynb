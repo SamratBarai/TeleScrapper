{
  "nbformat": 4,
  "nbformat_minor": 0,
  "metadata": {
    "colab": {
      "name": "colab-ffmpeg-cuda.ipynb",
      "provenance": []
    },
    "kernelspec": {
      "name": "python3",
      "display_name": "Python 3"
    },
    "accelerator": "GPU"
  },
  "cells": [
    {
      "cell_type": "markdown",
      "metadata": {
        "id": "GQxxI7KtBh0l"
      },
      "source": [
        "Make sure to use GPU hardware accelerator\n",
        "\n",
        "1. Clone the repository (https://github.com/rokibulislaam/colab-ffmpeg-cuda)\n"
      ]
    },
    {
      "cell_type": "code",
      "metadata": {
        "colab": {
          "base_uri": "https://localhost:8080/"
        },
        "id": "cM5C4dVbBs1F",
        "outputId": "20bd18ee-5aaf-41a2-94c3-c9422df44ff9"
      },
      "source": [
        "!git clone https://github.com/rokibulislaam/colab-ffmpeg-cuda.git"
      ],
      "execution_count": 1,
      "outputs": [
        {
          "output_type": "stream",
          "name": "stdout",
          "text": [
            "Cloning into 'colab-ffmpeg-cuda'...\n",
            "remote: Enumerating objects: 62, done.\u001b[K\n",
            "remote: Total 62 (delta 0), reused 0 (delta 0), pack-reused 62 (from 1)\u001b[K\n",
            "Receiving objects: 100% (62/62), 53.53 MiB | 10.95 MiB/s, done.\n",
            "Resolving deltas: 100% (20/20), done.\n",
            "Updating files: 100% (32/32), done.\n"
          ]
        }
      ]
    },
    {
      "cell_type": "markdown",
      "metadata": {
        "id": "ebPP4NbVBx8A"
      },
      "source": [
        "Copy all the pre-built binaries from ./colab-ffmpeg-cuda/bin/ to /usr/bin/ (Recommended)"
      ]
    },
    {
      "cell_type": "code",
      "metadata": {
        "id": "vh1pxqPJB0JB"
      },
      "source": [
        "!cp -r ./colab-ffmpeg-cuda/bin/. /usr/bin/"
      ],
      "execution_count": 2,
      "outputs": []
    },
    {
      "cell_type": "markdown",
      "metadata": {
        "id": "AkfdBmM4B3Zg"
      },
      "source": [
        "Check the installed ffmpeg version"
      ]
    },
    {
      "cell_type": "code",
      "metadata": {
        "colab": {
          "base_uri": "https://localhost:8080/"
        },
        "id": "KqnJhN2kB6j7",
        "outputId": "1550c9d3-0a55-40b4-bf77-5e0c30ec8ade"
      },
      "source": [
        "!ffmpeg -version"
      ],
      "execution_count": 3,
      "outputs": [
        {
          "output_type": "stream",
          "name": "stdout",
          "text": [
            "ffmpeg: error while loading shared libraries: libnppig.so.10: cannot open shared object file: No such file or directory\n"
          ]
        }
      ]
    },
    {
      "cell_type": "markdown",
      "metadata": {
        "id": "xUerLZclCMDA"
      },
      "source": [
        "# Is it not working?\n",
        "If you are having trouble with the pre-built binaries, buid the binaries from scratch (It may take more than half an hour)"
      ]
    },
    {
      "cell_type": "code",
      "metadata": {
        "id": "gNiyDCvJCPYf",
        "outputId": "ca91540f-474a-470b-d8e6-ba69cfab2ec6",
        "colab": {
          "base_uri": "https://localhost:8080/"
        }
      },
      "source": [
        "!chmod +x ./colab-ffmpeg-cuda/build && ./colab-ffmpeg-cuda/build --build"
      ],
      "execution_count": 4,
      "outputs": [
        {
          "output_type": "stream",
          "name": "stdout",
          "text": [
            "ffmpeg-build-script v1.16\n",
            "=========================\n",
            "\n",
            "Using 2 make jobs simultaneously.\n",
            "\n",
            "building yasm\n",
            "=======================\n",
            "Downloading https://www.tortall.net/projects/yasm/releases/yasm-1.3.0.tar.gz\n",
            "... Done\n",
            "$ ./configure --prefix=/content/workspace\n",
            "$ make -j 2\n",
            "$ make install\n",
            "\n",
            "building nasm\n",
            "=======================\n",
            "Downloading https://www.nasm.us/pub/nasm/releasebuilds/2.14.02/nasm-2.14.02.tar.gz\n",
            "... Done\n",
            "$ ./configure --prefix=/content/workspace --disable-shared --enable-static\n",
            "$ make -j 2\n",
            "$ make install\n",
            "\n",
            "building opencore\n",
            "=======================\n",
            "Downloading https://deac-riga.dl.sourceforge.net/project/opencore-amr/opencore-amr/opencore-amr-0.1.5.tar.gz\n",
            "... Done\n",
            "$ ./configure --prefix=/content/workspace --disable-shared --enable-static\n",
            "$ make -j 2\n",
            "$ make install\n",
            "\n",
            "building libvpx\n",
            "=======================\n",
            "Downloading https://github.com/webmproject/libvpx/archive/v1.8.1.tar.gz\n",
            "... Done\n",
            "$ ./configure --prefix=/content/workspace --disable-unit-tests --disable-shared\n",
            "$ make -j 2\n",
            "$ make install\n",
            "\n",
            "building lame\n",
            "=======================\n",
            "Downloading https://netcologne.dl.sourceforge.net/project/lame/lame/3.100/lame-3.100.tar.gz\n",
            "... Done\n",
            "$ ./configure --prefix=/content/workspace --disable-shared --enable-static\n",
            "$ make -j 2\n",
            "$ make install\n",
            "\n",
            "building opus\n",
            "=======================\n",
            "Downloading https://archive.mozilla.org/pub/opus/opus-1.3.1.tar.gz\n",
            "... Done\n",
            "$ ./configure --prefix=/content/workspace --disable-shared --enable-static\n",
            "$ make -j 2\n",
            "$ make install\n",
            "\n",
            "building xvidcore\n",
            "=======================\n",
            "Downloading https://downloads.xvid.com/downloads/xvidcore-1.3.7.tar.gz\n",
            "... Done\n",
            "$ ./configure --prefix=/content/workspace --disable-shared --enable-static\n",
            "$ make -j 2\n",
            "$ make install\n",
            "\n",
            "building x264\n",
            "=======================\n",
            "Downloading https://code.videolan.org/videolan/x264/-/archive/stable/x264-stable.tar.bz2\n",
            "... Done\n",
            "$ ./configure --prefix=/content/workspace --enable-static --enable-pic CXXFLAGS=-fPIC\n",
            "$ make -j 2\n",
            "$ make install\n",
            "$ make install-lib-static\n",
            "\n",
            "building libogg\n",
            "=======================\n",
            "Downloading https://ftp.osuosl.org/pub/xiph/releases/ogg/libogg-1.3.3.tar.gz\n",
            "... Done\n",
            "$ ./configure --prefix=/content/workspace --disable-shared --enable-static\n",
            "$ make -j 2\n",
            "$ make install\n",
            "\n",
            "building libvorbis\n",
            "=======================\n",
            "Downloading https://ftp.osuosl.org/pub/xiph/releases/vorbis/libvorbis-1.3.6.tar.gz\n",
            "... Done\n",
            "$ ./configure --prefix=/content/workspace --with-ogg-libraries=/content/workspace/lib --with-ogg-includes=/content/workspace/include/ --enable-static --disable-shared --disable-oggtest\n",
            "$ make -j 2\n",
            "$ make install\n",
            "\n",
            "building libtheora\n",
            "=======================\n",
            "Downloading https://ftp.osuosl.org/pub/xiph/releases/theora/libtheora-1.1.1.tar.gz\n",
            "... Done\n",
            "$ ./configure --prefix=/content/workspace --with-ogg-libraries=/content/workspace/lib --with-ogg-includes=/content/workspace/include/ --with-vorbis-libraries=/content/workspace/lib --with-vorbis-includes=/content/workspace/include/ --enable-static --disable-shared --disable-oggtest --disable-vorbistest --disable-examples --disable-asm --disable-spec\n",
            "$ make -j 2\n",
            "$ make install\n",
            "\n",
            "building pkg-config\n",
            "=======================\n",
            "Downloading https://pkgconfig.freedesktop.org/releases/pkg-config-0.29.2.tar.gz\n",
            "... Done\n",
            "$ ./configure --silent --prefix=/content/workspace --with-pc-path=/content/workspace/lib/pkgconfig --with-internal-glib\n",
            "$ make -j 2\n",
            "$ make install\n",
            "\n",
            "building cmake\n",
            "=======================\n",
            "Downloading https://cmake.org/files/v3.15/cmake-3.15.4.tar.gz\n",
            "... Done\n",
            "$ ./configure --prefix=/content/workspace\n",
            "$ make -j 2\n",
            "$ make install\n",
            "\n",
            "building vid_stab\n",
            "=======================\n",
            "Downloading https://github.com/georgmartius/vid.stab/archive/v1.1.0.tar.gz\n",
            "... Done\n",
            "$ cmake -DBUILD_SHARED_LIBS=OFF -DCMAKE_INSTALL_PREFIX:PATH=/content/workspace -DUSE_OMP=OFF -DENABLE_SHARED:bool=off .\n",
            "$ make\n",
            "$ make install\n",
            "\n",
            "building x265\n",
            "=======================\n",
            "Downloading https://github.com/videolan/x265/archive/3.4.tar.gz\n",
            "... Done\n",
            "$ cmake -DCMAKE_INSTALL_PREFIX:PATH=/content/workspace -DENABLE_SHARED:bool=off .\n",
            "$ make -j 2\n",
            "$ make install\n",
            "\n",
            "building fdk_aac\n",
            "=======================\n",
            "Downloading https://sourceforge.net/projects/opencore-amr/files/fdk-aac/fdk-aac-2.0.1.tar.gz/download?use_mirror=gigenet\n",
            "... Done\n",
            "$ ./configure --prefix=/content/workspace --disable-shared --enable-static\n",
            "$ make -j 2\n",
            "$ make install\n",
            "\n",
            "building av1\n",
            "=======================\n",
            "Downloading https://aomedia.googlesource.com/aom/+archive/0f5cd05bb3d6209e2583ce682d1acd8e21ae24b8.tar.gz\n",
            "... Done\n",
            "$ cmake -DENABLE_TESTS=0 -DCMAKE_INSTALL_PREFIX:PATH=/content/workspace /content/packages/av1\n",
            "$ make -j 2\n",
            "$ make install\n",
            "\n",
            "building zlib\n",
            "=======================\n",
            "Downloading https://www.zlib.net/zlib-1.2.11.tar.gz\n",
            "... Done\n",
            "Failed to extract zlib-1.2.11.tar.gz\n"
          ]
        }
      ]
    },
    {
      "cell_type": "markdown",
      "metadata": {
        "id": "3ByZiV17CSa8"
      },
      "source": [
        "There you go, ffmpeg with the required binaries should be installed to /usr/bin.\n"
      ]
    },
    {
      "cell_type": "code",
      "source": [
        "!apt update\n",
        "!apt install ffmpeg -y"
      ],
      "metadata": {
        "id": "pLRros4MMX26",
        "outputId": "048309e2-65fd-4746-a15e-c79e43969a1e",
        "colab": {
          "base_uri": "https://localhost:8080/"
        }
      },
      "execution_count": 9,
      "outputs": [
        {
          "output_type": "stream",
          "name": "stdout",
          "text": [
            "Hit:1 https://cloud.r-project.org/bin/linux/ubuntu jammy-cran40/ InRelease\n",
            "Hit:2 http://archive.ubuntu.com/ubuntu jammy InRelease\n",
            "Hit:3 http://security.ubuntu.com/ubuntu jammy-security InRelease\n",
            "Hit:4 http://archive.ubuntu.com/ubuntu jammy-updates InRelease\n",
            "Hit:5 https://r2u.stat.illinois.edu/ubuntu jammy InRelease\n",
            "Hit:6 http://archive.ubuntu.com/ubuntu jammy-backports InRelease\n",
            "Hit:7 https://developer.download.nvidia.com/compute/cuda/repos/ubuntu2204/x86_64  InRelease\n",
            "Hit:8 https://ppa.launchpadcontent.net/deadsnakes/ppa/ubuntu jammy InRelease\n",
            "Hit:9 https://ppa.launchpadcontent.net/graphics-drivers/ppa/ubuntu jammy InRelease\n",
            "Hit:10 https://ppa.launchpadcontent.net/ubuntugis/ppa/ubuntu jammy InRelease\n",
            "Reading package lists... Done\n",
            "Building dependency tree... Done\n",
            "Reading state information... Done\n",
            "30 packages can be upgraded. Run 'apt list --upgradable' to see them.\n",
            "\u001b[1;33mW: \u001b[0mSkipping acquire of configured file 'main/source/Sources' as repository 'https://r2u.stat.illinois.edu/ubuntu jammy InRelease' does not seem to provide it (sources.list entry misspelt?)\u001b[0m\n",
            "Reading package lists... Done\n",
            "Building dependency tree... Done\n",
            "Reading state information... Done\n",
            "ffmpeg is already the newest version (7:4.4.2-0ubuntu0.22.04.1).\n",
            "0 upgraded, 0 newly installed, 0 to remove and 30 not upgraded.\n"
          ]
        }
      ]
    },
    {
      "cell_type": "code",
      "source": [
        "!ffmpeg -hwaccel cuda -i '/content/Gardens of Eden (Sweetie Fox, Diana Rider, Arina Fox, Molly Mad) - Pornhub.com_2.ts' -c:v h264_nvenc -preset fast -c:a aac '/content/Gardens of Eden (Sweetie Fox, Diana Rider, Arina Fox, Molly Mad) - Pornhub.com_2.mp4'"
      ],
      "metadata": {
        "id": "QcumOzzbPK6t",
        "outputId": "aa9ebccd-e20f-401b-d222-f3a34de64834",
        "colab": {
          "base_uri": "https://localhost:8080/"
        }
      },
      "execution_count": 1,
      "outputs": [
        {
          "output_type": "stream",
          "name": "stdout",
          "text": [
            "ffmpeg version 4.4.2-0ubuntu0.22.04.1 Copyright (c) 2000-2021 the FFmpeg developers\n",
            "  built with gcc 11 (Ubuntu 11.2.0-19ubuntu1)\n",
            "  configuration: --prefix=/usr --extra-version=0ubuntu0.22.04.1 --toolchain=hardened --libdir=/usr/lib/x86_64-linux-gnu --incdir=/usr/include/x86_64-linux-gnu --arch=amd64 --enable-gpl --disable-stripping --enable-gnutls --enable-ladspa --enable-libaom --enable-libass --enable-libbluray --enable-libbs2b --enable-libcaca --enable-libcdio --enable-libcodec2 --enable-libdav1d --enable-libflite --enable-libfontconfig --enable-libfreetype --enable-libfribidi --enable-libgme --enable-libgsm --enable-libjack --enable-libmp3lame --enable-libmysofa --enable-libopenjpeg --enable-libopenmpt --enable-libopus --enable-libpulse --enable-librabbitmq --enable-librubberband --enable-libshine --enable-libsnappy --enable-libsoxr --enable-libspeex --enable-libsrt --enable-libssh --enable-libtheora --enable-libtwolame --enable-libvidstab --enable-libvorbis --enable-libvpx --enable-libwebp --enable-libx265 --enable-libxml2 --enable-libxvid --enable-libzimg --enable-libzmq --enable-libzvbi --enable-lv2 --enable-omx --enable-openal --enable-opencl --enable-opengl --enable-sdl2 --enable-pocketsphinx --enable-librsvg --enable-libmfx --enable-libdc1394 --enable-libdrm --enable-libiec61883 --enable-chromaprint --enable-frei0r --enable-libx264 --enable-shared\n",
            "  libavutil      56. 70.100 / 56. 70.100\n",
            "  libavcodec     58.134.100 / 58.134.100\n",
            "  libavformat    58. 76.100 / 58. 76.100\n",
            "  libavdevice    58. 13.100 / 58. 13.100\n",
            "  libavfilter     7.110.100 /  7.110.100\n",
            "  libswscale      5.  9.100 /  5.  9.100\n",
            "  libswresample   3.  9.100 /  3.  9.100\n",
            "  libpostproc    55.  9.100 / 55.  9.100\n",
            "\u001b[0;35m[mpegts @ 0x578e203210c0] \u001b[0m\u001b[0;33mstart time for stream 2 is not set in estimate_timings_from_pts\n",
            "\u001b[0mInput #0, mpegts, from '/content/Gardens of Eden (Sweetie Fox, Diana Rider, Arina Fox, Molly Mad) - Pornhub.com_2.ts':\n",
            "  Duration: 00:18:44.66, start: 0.101000, bitrate: 1684 kb/s\n",
            "  Program 1 \n",
            "  Stream #0:0[0x100]: Video: h264 (High) ([27][0][0][0] / 0x001B), yuv420p(progressive), 854x480 [SAR 1280:1281 DAR 16:9], 50 fps, 50 tbr, 90k tbn, 100 tbc\n",
            "  Stream #0:1[0x101]: Audio: aac (LC) ([15][0][0][0] / 0x000F), 44100 Hz, stereo, fltp, 117 kb/s\n",
            "  Stream #0:2[0x102]: Data: timed_id3 (ID3  / 0x20334449)\n",
            "Stream mapping:\n",
            "  Stream #0:0 -> #0:0 (h264 (native) -> h264 (h264_nvenc))\n",
            "  Stream #0:1 -> #0:1 (aac (native) -> aac (native))\n",
            "Press [q] to stop, [?] for help\n",
            "Output #0, mp4, to '/content/Gardens of Eden (Sweetie Fox, Diana Rider, Arina Fox, Molly Mad) - Pornhub.com_2.mp4':\n",
            "  Metadata:\n",
            "    encoder         : Lavf58.76.100\n",
            "  Stream #0:0: Video: h264 (Main) (avc1 / 0x31637661), nv12(progressive), 854x480 [SAR 1280:1281 DAR 16:9], q=2-31, 2000 kb/s, 50 fps, 12800 tbn\n",
            "    Metadata:\n",
            "      encoder         : Lavc58.134.100 h264_nvenc\n",
            "    Side data:\n",
            "      cpb: bitrate max/min/avg: 0/0/2000000 buffer size: 4000000 vbv_delay: N/A\n",
            "  Stream #0:1: Audio: aac (LC) (mp4a / 0x6134706D), 44100 Hz, stereo, fltp, 128 kb/s\n",
            "    Metadata:\n",
            "      encoder         : Lavc58.134.100 aac\n",
            "frame=56233 fps=930 q=17.0 Lsize=  288091kB time=00:18:44.64 bitrate=2098.5kbits/s dup=2 drop=0 speed=18.6x    \n",
            "video:269766kB audio:17305kB subtitle:0kB other streams:0kB global headers:0kB muxing overhead: 0.355416%\n",
            "\u001b[1;36m[aac @ 0x578e204b1300] \u001b[0mQavg: 1572.470\n"
          ]
        }
      ]
    },
    {
      "cell_type": "code",
      "source": [
        "!ffmpeg -hwaccel cuda -i '/content/Gardens of Eden (Sweetie Fox, Diana Rider, Arina Fox, Molly Mad) - Pornhub.com_2.ts' -c:v hevc_nvenc -preset slow -b:v 1M -crf 28 -c:a aac -b:a 64k '/content/Gardens of Eden (Sweetie Fox, Diana Rider, Arina Fox, Molly Mad) - Pornhub.com_2.mp4'"
      ],
      "metadata": {
        "id": "Kq8JMF90QlTL",
        "outputId": "38dc1ed8-b9cf-4126-f265-a114f7c422ae",
        "colab": {
          "base_uri": "https://localhost:8080/"
        }
      },
      "execution_count": 6,
      "outputs": [
        {
          "output_type": "stream",
          "name": "stdout",
          "text": [
            "ffmpeg version 4.4.2-0ubuntu0.22.04.1 Copyright (c) 2000-2021 the FFmpeg developers\n",
            "  built with gcc 11 (Ubuntu 11.2.0-19ubuntu1)\n",
            "  configuration: --prefix=/usr --extra-version=0ubuntu0.22.04.1 --toolchain=hardened --libdir=/usr/lib/x86_64-linux-gnu --incdir=/usr/include/x86_64-linux-gnu --arch=amd64 --enable-gpl --disable-stripping --enable-gnutls --enable-ladspa --enable-libaom --enable-libass --enable-libbluray --enable-libbs2b --enable-libcaca --enable-libcdio --enable-libcodec2 --enable-libdav1d --enable-libflite --enable-libfontconfig --enable-libfreetype --enable-libfribidi --enable-libgme --enable-libgsm --enable-libjack --enable-libmp3lame --enable-libmysofa --enable-libopenjpeg --enable-libopenmpt --enable-libopus --enable-libpulse --enable-librabbitmq --enable-librubberband --enable-libshine --enable-libsnappy --enable-libsoxr --enable-libspeex --enable-libsrt --enable-libssh --enable-libtheora --enable-libtwolame --enable-libvidstab --enable-libvorbis --enable-libvpx --enable-libwebp --enable-libx265 --enable-libxml2 --enable-libxvid --enable-libzimg --enable-libzmq --enable-libzvbi --enable-lv2 --enable-omx --enable-openal --enable-opencl --enable-opengl --enable-sdl2 --enable-pocketsphinx --enable-librsvg --enable-libmfx --enable-libdc1394 --enable-libdrm --enable-libiec61883 --enable-chromaprint --enable-frei0r --enable-libx264 --enable-shared\n",
            "  libavutil      56. 70.100 / 56. 70.100\n",
            "  libavcodec     58.134.100 / 58.134.100\n",
            "  libavformat    58. 76.100 / 58. 76.100\n",
            "  libavdevice    58. 13.100 / 58. 13.100\n",
            "  libavfilter     7.110.100 /  7.110.100\n",
            "  libswscale      5.  9.100 /  5.  9.100\n",
            "  libswresample   3.  9.100 /  3.  9.100\n",
            "  libpostproc    55.  9.100 / 55.  9.100\n",
            "\u001b[0;35m[mpegts @ 0x55bcfe9eb180] \u001b[0m\u001b[0;33mstart time for stream 2 is not set in estimate_timings_from_pts\n",
            "\u001b[0mInput #0, mpegts, from '/content/Gardens of Eden (Sweetie Fox, Diana Rider, Arina Fox, Molly Mad) - Pornhub.com_2.ts':\n",
            "  Duration: 00:18:44.66, start: 0.101000, bitrate: 1684 kb/s\n",
            "  Program 1 \n",
            "  Stream #0:0[0x100]: Video: h264 (High) ([27][0][0][0] / 0x001B), yuv420p(progressive), 854x480 [SAR 1280:1281 DAR 16:9], 50 fps, 50 tbr, 90k tbn, 100 tbc\n",
            "  Stream #0:1[0x101]: Audio: aac (LC) ([15][0][0][0] / 0x000F), 44100 Hz, stereo, fltp, 117 kb/s\n",
            "  Stream #0:2[0x102]: Data: timed_id3 (ID3  / 0x20334449)\n",
            "\u001b[0;33mCodec AVOption crf (Select the quality for constant quality mode) specified for output file #0 (/content/Gardens of Eden (Sweetie Fox, Diana Rider, Arina Fox, Molly Mad) - Pornhub.com_2.mp4) has not been used for any stream. The most likely reason is either wrong type (e.g. a video option with no video streams) or that it is a private option of some encoder which was not actually used for any stream.\n",
            "\u001b[0mStream mapping:\n",
            "  Stream #0:0 -> #0:0 (h264 (native) -> hevc (hevc_nvenc))\n",
            "  Stream #0:1 -> #0:1 (aac (native) -> aac (native))\n",
            "Press [q] to stop, [?] for help\n",
            "Output #0, mp4, to '/content/Gardens of Eden (Sweetie Fox, Diana Rider, Arina Fox, Molly Mad) - Pornhub.com_2.mp4':\n",
            "  Metadata:\n",
            "    encoder         : Lavf58.76.100\n",
            "  Stream #0:0: Video: hevc (Main) (hev1 / 0x31766568), nv12(progressive), 854x480 [SAR 1280:1281 DAR 16:9], q=2-31, 1000 kb/s, 50 fps, 12800 tbn\n",
            "    Metadata:\n",
            "      encoder         : Lavc58.134.100 hevc_nvenc\n",
            "    Side data:\n",
            "      cpb: bitrate max/min/avg: 0/0/1000000 buffer size: 2000000 vbv_delay: N/A\n",
            "  Stream #0:1: Audio: aac (LC) (mp4a / 0x6134706D), 44100 Hz, stereo, fltp, 64 kb/s\n",
            "    Metadata:\n",
            "      encoder         : Lavc58.134.100 aac\n",
            "frame=56233 fps=508 q=26.0 Lsize=  151369kB time=00:18:44.63 bitrate=1102.6kbits/s dup=2 drop=0 speed=10.2x    \n",
            "video:141461kB audio:8668kB subtitle:0kB other streams:0kB global headers:0kB muxing overhead: 0.826002%\n",
            "\u001b[1;36m[aac @ 0x55bcfeb59480] \u001b[0mQavg: 1534.716\n"
          ]
        }
      ]
    }
  ]
}